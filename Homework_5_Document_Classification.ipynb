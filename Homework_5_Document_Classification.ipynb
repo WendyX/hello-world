{
  "cells": [
    {
      "cell_type": "markdown",
      "metadata": {
        "id": "view-in-github",
        "colab_type": "text"
      },
      "source": [
        "<a href=\"https://colab.research.google.com/github/WendyX/hello-world/blob/master/Homework_5_Document_Classification.ipynb\" target=\"_parent\"><img src=\"https://colab.research.google.com/assets/colab-badge.svg\" alt=\"Open In Colab\"/></a>"
      ]
    },
    {
      "cell_type": "code",
      "execution_count": 1,
      "metadata": {
        "colab": {
          "base_uri": "https://localhost:8080/",
          "height": 0
        },
        "id": "MYyMMCZFJiSu",
        "outputId": "48c95ea7-c97a-480c-a05a-e21af5248be2"
      },
      "outputs": [
        {
          "output_type": "stream",
          "name": "stdout",
          "text": [
            "Requirement already satisfied: scikit-learn in /usr/local/lib/python3.10/dist-packages (1.2.2)\n",
            "Collecting scikit-learn\n",
            "  Downloading scikit_learn-1.4.2-cp310-cp310-manylinux_2_17_x86_64.manylinux2014_x86_64.whl (12.1 MB)\n",
            "\u001b[2K     \u001b[90m━━━━━━━━━━━━━━━━━━━━━━━━━━━━━━━━━━━━━━━━\u001b[0m \u001b[32m12.1/12.1 MB\u001b[0m \u001b[31m20.9 MB/s\u001b[0m eta \u001b[36m0:00:00\u001b[0m\n",
            "\u001b[?25hRequirement already satisfied: gensim in /usr/local/lib/python3.10/dist-packages (4.3.2)\n",
            "Requirement already satisfied: numpy>=1.19.5 in /usr/local/lib/python3.10/dist-packages (from scikit-learn) (1.25.2)\n",
            "Requirement already satisfied: scipy>=1.6.0 in /usr/local/lib/python3.10/dist-packages (from scikit-learn) (1.11.4)\n",
            "Requirement already satisfied: joblib>=1.2.0 in /usr/local/lib/python3.10/dist-packages (from scikit-learn) (1.4.0)\n",
            "Requirement already satisfied: threadpoolctl>=2.0.0 in /usr/local/lib/python3.10/dist-packages (from scikit-learn) (3.4.0)\n",
            "Requirement already satisfied: smart-open>=1.8.1 in /usr/local/lib/python3.10/dist-packages (from gensim) (6.4.0)\n",
            "Installing collected packages: scikit-learn\n",
            "Successfully installed scikit-learn-1.4.2\n"
          ]
        }
      ],
      "source": [
        "!pip install --user --upgrade scikit-learn gensim"
      ]
    },
    {
      "cell_type": "markdown",
      "metadata": {
        "id": "KsRs9aP3JiSv"
      },
      "source": [
        "# Classification\n",
        "A machine learning classifier is an algorithm that takes input (transformed documents) and a labels.  From this training data where we know the labels the algorithm and learns a set of parameters such that when it encounters previously unseen data (a new document) it can label the document appropriately.  Ideally we would create labels for a small subset of documents per haps a few hundred and want the classifier to ascribe labels to many more documents like several thousands or tens of thousands of documents.  \n",
        "\n",
        "In our case a document is a piece of free text from the EHR, for example a progress note, surgical note, pathology report, etc.  \n",
        "\n",
        "We are interested in ascribing labels corresponding to things like pheontypes, given the piece of text can we label the patient as having diabetes, epilepsy, CHF, or can we determine if the patient is a smoker, previousy history of smoking, or family history of cancer.  These labels can be useful for identfying candadates for studies.  \n",
        "\n",
        "This is an interactive notebook.  Documentation and code will be presented in it. You can hit the Run button above to run code in a code cell.  Let's first import some libraries - these are tools or bits of code that you will be using.  "
      ]
    },
    {
      "cell_type": "code",
      "execution_count": 2,
      "metadata": {
        "id": "E1hecMXGJiSv"
      },
      "outputs": [],
      "source": [
        "from gensim.parsing.preprocessing import stem_text, preprocess_string, remove_stopwords, strip_multiple_whitespaces\n",
        "from sklearn.feature_extraction.text import CountVectorizer, TfidfTransformer\n",
        "from sklearn.model_selection import cross_validate\n",
        "from sklearn import metrics\n",
        "from sklearn.naive_bayes import MultinomialNB\n",
        "from sklearn.svm import SVC, LinearSVC\n",
        "from sklearn.tree import DecisionTreeClassifier\n",
        "from sklearn.ensemble import RandomForestClassifier\n",
        "from sklearn.pipeline import Pipeline\n",
        "import numpy as np\n",
        "import csv"
      ]
    },
    {
      "cell_type": "markdown",
      "metadata": {
        "id": "zln5awqxJiSw"
      },
      "source": [
        "# Loading Data\n",
        "Lets first look at the data we'll be using.  It is a version of the Obesity dataset from i2b2 and is the reason you signed the data use agreement.  The data consists of discharge summaries from the Partners HealthCare Research Patient Data Repository.  It was a challenge from 2009 to identify obesity related comorbidities in discharge summaries.  Please cite the following if you use this data for research:\n",
        "\n",
        "Uzuner Ö. (2009). \"Recognizing Obesity and Co-morbidities in Sparse Data\".  Journal of the American Medical Informatics Association. July 2009; 16(4): 561-570. http://jamia.bmj.com/content/16/4/561.full.pdf.\n",
        "\n",
        "We will be using a subset of this data that has been collected and slightly processed to make using it easier within the allotted time.  See the publication for details on the raw data.  \n",
        "\n",
        "The datafile we will be using is called: \"obesity_data.csv\".  The columns in the included file are below in the variable \"headers\".  We will load the csv into memory and get labels for the comorbidity corresponding to the column number in headers.  "
      ]
    },
    {
      "cell_type": "code",
      "execution_count": 4,
      "metadata": {
        "colab": {
          "base_uri": "https://localhost:8080/",
          "height": 92
        },
        "id": "hpPjXeIEJiSw",
        "outputId": "d1b32ba5-e134-4a1e-87e8-6f0603cb6175"
      },
      "outputs": [
        {
          "output_type": "display_data",
          "data": {
            "text/plain": [
              "<IPython.core.display.HTML object>"
            ],
            "text/html": [
              "\n",
              "     <input type=\"file\" id=\"files-79a739e3-43fa-4b1a-ad32-5b60554d09f7\" name=\"files[]\" multiple disabled\n",
              "        style=\"border:none\" />\n",
              "     <output id=\"result-79a739e3-43fa-4b1a-ad32-5b60554d09f7\">\n",
              "      Upload widget is only available when the cell has been executed in the\n",
              "      current browser session. Please rerun this cell to enable.\n",
              "      </output>\n",
              "      <script>// Copyright 2017 Google LLC\n",
              "//\n",
              "// Licensed under the Apache License, Version 2.0 (the \"License\");\n",
              "// you may not use this file except in compliance with the License.\n",
              "// You may obtain a copy of the License at\n",
              "//\n",
              "//      http://www.apache.org/licenses/LICENSE-2.0\n",
              "//\n",
              "// Unless required by applicable law or agreed to in writing, software\n",
              "// distributed under the License is distributed on an \"AS IS\" BASIS,\n",
              "// WITHOUT WARRANTIES OR CONDITIONS OF ANY KIND, either express or implied.\n",
              "// See the License for the specific language governing permissions and\n",
              "// limitations under the License.\n",
              "\n",
              "/**\n",
              " * @fileoverview Helpers for google.colab Python module.\n",
              " */\n",
              "(function(scope) {\n",
              "function span(text, styleAttributes = {}) {\n",
              "  const element = document.createElement('span');\n",
              "  element.textContent = text;\n",
              "  for (const key of Object.keys(styleAttributes)) {\n",
              "    element.style[key] = styleAttributes[key];\n",
              "  }\n",
              "  return element;\n",
              "}\n",
              "\n",
              "// Max number of bytes which will be uploaded at a time.\n",
              "const MAX_PAYLOAD_SIZE = 100 * 1024;\n",
              "\n",
              "function _uploadFiles(inputId, outputId) {\n",
              "  const steps = uploadFilesStep(inputId, outputId);\n",
              "  const outputElement = document.getElementById(outputId);\n",
              "  // Cache steps on the outputElement to make it available for the next call\n",
              "  // to uploadFilesContinue from Python.\n",
              "  outputElement.steps = steps;\n",
              "\n",
              "  return _uploadFilesContinue(outputId);\n",
              "}\n",
              "\n",
              "// This is roughly an async generator (not supported in the browser yet),\n",
              "// where there are multiple asynchronous steps and the Python side is going\n",
              "// to poll for completion of each step.\n",
              "// This uses a Promise to block the python side on completion of each step,\n",
              "// then passes the result of the previous step as the input to the next step.\n",
              "function _uploadFilesContinue(outputId) {\n",
              "  const outputElement = document.getElementById(outputId);\n",
              "  const steps = outputElement.steps;\n",
              "\n",
              "  const next = steps.next(outputElement.lastPromiseValue);\n",
              "  return Promise.resolve(next.value.promise).then((value) => {\n",
              "    // Cache the last promise value to make it available to the next\n",
              "    // step of the generator.\n",
              "    outputElement.lastPromiseValue = value;\n",
              "    return next.value.response;\n",
              "  });\n",
              "}\n",
              "\n",
              "/**\n",
              " * Generator function which is called between each async step of the upload\n",
              " * process.\n",
              " * @param {string} inputId Element ID of the input file picker element.\n",
              " * @param {string} outputId Element ID of the output display.\n",
              " * @return {!Iterable<!Object>} Iterable of next steps.\n",
              " */\n",
              "function* uploadFilesStep(inputId, outputId) {\n",
              "  const inputElement = document.getElementById(inputId);\n",
              "  inputElement.disabled = false;\n",
              "\n",
              "  const outputElement = document.getElementById(outputId);\n",
              "  outputElement.innerHTML = '';\n",
              "\n",
              "  const pickedPromise = new Promise((resolve) => {\n",
              "    inputElement.addEventListener('change', (e) => {\n",
              "      resolve(e.target.files);\n",
              "    });\n",
              "  });\n",
              "\n",
              "  const cancel = document.createElement('button');\n",
              "  inputElement.parentElement.appendChild(cancel);\n",
              "  cancel.textContent = 'Cancel upload';\n",
              "  const cancelPromise = new Promise((resolve) => {\n",
              "    cancel.onclick = () => {\n",
              "      resolve(null);\n",
              "    };\n",
              "  });\n",
              "\n",
              "  // Wait for the user to pick the files.\n",
              "  const files = yield {\n",
              "    promise: Promise.race([pickedPromise, cancelPromise]),\n",
              "    response: {\n",
              "      action: 'starting',\n",
              "    }\n",
              "  };\n",
              "\n",
              "  cancel.remove();\n",
              "\n",
              "  // Disable the input element since further picks are not allowed.\n",
              "  inputElement.disabled = true;\n",
              "\n",
              "  if (!files) {\n",
              "    return {\n",
              "      response: {\n",
              "        action: 'complete',\n",
              "      }\n",
              "    };\n",
              "  }\n",
              "\n",
              "  for (const file of files) {\n",
              "    const li = document.createElement('li');\n",
              "    li.append(span(file.name, {fontWeight: 'bold'}));\n",
              "    li.append(span(\n",
              "        `(${file.type || 'n/a'}) - ${file.size} bytes, ` +\n",
              "        `last modified: ${\n",
              "            file.lastModifiedDate ? file.lastModifiedDate.toLocaleDateString() :\n",
              "                                    'n/a'} - `));\n",
              "    const percent = span('0% done');\n",
              "    li.appendChild(percent);\n",
              "\n",
              "    outputElement.appendChild(li);\n",
              "\n",
              "    const fileDataPromise = new Promise((resolve) => {\n",
              "      const reader = new FileReader();\n",
              "      reader.onload = (e) => {\n",
              "        resolve(e.target.result);\n",
              "      };\n",
              "      reader.readAsArrayBuffer(file);\n",
              "    });\n",
              "    // Wait for the data to be ready.\n",
              "    let fileData = yield {\n",
              "      promise: fileDataPromise,\n",
              "      response: {\n",
              "        action: 'continue',\n",
              "      }\n",
              "    };\n",
              "\n",
              "    // Use a chunked sending to avoid message size limits. See b/62115660.\n",
              "    let position = 0;\n",
              "    do {\n",
              "      const length = Math.min(fileData.byteLength - position, MAX_PAYLOAD_SIZE);\n",
              "      const chunk = new Uint8Array(fileData, position, length);\n",
              "      position += length;\n",
              "\n",
              "      const base64 = btoa(String.fromCharCode.apply(null, chunk));\n",
              "      yield {\n",
              "        response: {\n",
              "          action: 'append',\n",
              "          file: file.name,\n",
              "          data: base64,\n",
              "        },\n",
              "      };\n",
              "\n",
              "      let percentDone = fileData.byteLength === 0 ?\n",
              "          100 :\n",
              "          Math.round((position / fileData.byteLength) * 100);\n",
              "      percent.textContent = `${percentDone}% done`;\n",
              "\n",
              "    } while (position < fileData.byteLength);\n",
              "  }\n",
              "\n",
              "  // All done.\n",
              "  yield {\n",
              "    response: {\n",
              "      action: 'complete',\n",
              "    }\n",
              "  };\n",
              "}\n",
              "\n",
              "scope.google = scope.google || {};\n",
              "scope.google.colab = scope.google.colab || {};\n",
              "scope.google.colab._files = {\n",
              "  _uploadFiles,\n",
              "  _uploadFilesContinue,\n",
              "};\n",
              "})(self);\n",
              "</script> "
            ]
          },
          "metadata": {}
        },
        {
          "output_type": "stream",
          "name": "stdout",
          "text": [
            "Saving obesity_data.csv to obesity_data.csv\n",
            "Label we are classifying: Diabetes\n"
          ]
        }
      ],
      "source": [
        "headers = ['text', 'CAD', 'Gout', 'Venous Insufficiency', 'PVD', 'Hypercholesterolemia',\n",
        "           'Hypertension', 'Asthma', 'Hypertriglyceridemia', 'OSA', 'Gallstones',\n",
        "           'Depression', 'Obesity', 'GERD', 'OA', 'Diabetes', 'CHF']\n",
        "\n",
        "def load_data(filename, label_col):\n",
        "    labels = []\n",
        "    text = []\n",
        "    with open(filename, 'rt') as file:\n",
        "        reader = csv.reader(file, delimiter='\\t')\n",
        "        next(reader)\n",
        "        for row in reader:\n",
        "            val = int(row[label_col])\n",
        "            if val==1 or val==-1:\n",
        "                text.append(row[0])\n",
        "                if val==-1:\n",
        "                    labels.append(0)\n",
        "                else:\n",
        "                    labels.append(1)\n",
        "    return text, labels\n",
        "\n",
        "from google.colab import files\n",
        "uploaded = files.upload()\n",
        "\n",
        "#This is a comment, the column 1 corresponds to the comorbidity CAD\n",
        "col=15\n",
        "print(\"Label we are classifying:\", headers[col])\n",
        "text, labels = load_data('obesity_data.csv', col)"
      ]
    },
    {
      "cell_type": "markdown",
      "metadata": {
        "id": "Zb4gY6eTJiSw"
      },
      "source": [
        "Lets look at the data we loaded, we can see the number of documents we loaded.  We can also see the number of positive (patient has Diabetes) and negative labels.  We can also look at the first patient record."
      ]
    },
    {
      "cell_type": "code",
      "execution_count": 5,
      "metadata": {
        "colab": {
          "base_uri": "https://localhost:8080/",
          "height": 0
        },
        "id": "VuPIfnwHJiSw",
        "outputId": "67de5b7a-d885-4a0f-eae7-76490775a98b"
      },
      "outputs": [
        {
          "output_type": "stream",
          "name": "stdout",
          "text": [
            "Number of documents: 624 Num Diabetes: 424 Num without Diabets: 200\n"
          ]
        }
      ],
      "source": [
        "print(\"Number of documents:\", len(text), \"Num Diabetes:\", np.count_nonzero(labels), \"Num without Diabets:\", (len(labels)-np.count_nonzero(labels)))"
      ]
    },
    {
      "cell_type": "code",
      "execution_count": 6,
      "metadata": {
        "colab": {
          "base_uri": "https://localhost:8080/",
          "height": 0
        },
        "id": "HljaHZ2cJiSw",
        "outputId": "9a4bb7d7-9aa9-4fbe-a075-a1e6f1add18d"
      },
      "outputs": [
        {
          "output_type": "stream",
          "name": "stdout",
          "text": [
            "632763549 | STMHAHCC | 05016047 | | 897289 | 10/12/1998 12:00:00 AM | UNSTABLE ANGINA | Signed | DIS | Admission Date: 11/10/1998 Report Status: Signed\n",
            "\n",
            "Discharge Date: 11/10/1998\n",
            "PRINCIPAL DIAGNOSIS: CHEST PAIN\n",
            "HISTORY OF HYPERTENSION\n",
            "HISTORY OF INSULIN DEPENDENT DIABETES\n",
            "MELLITUS\n",
            "HISTORY OF CORONARY ARTERY DISEASE\n",
            "HISTORY OF MYOCARDIAL INFARCTION\n",
            "HISTORY OF PERIPHERAL VASCULAR DISEASE\n",
            "HISTORY OF REFLUX DISEASE\n",
            "STATUS POST RIGHT LOWER LEG BYPASS\n",
            "HISTORY OF CONGESTIVE HEART FAILURE\n",
            "HISTORY OF PRESENT ILLNESS: The patient is a 69 year old\n",
            "Spanish speaking woman with a history\n",
            "of significant coronary artery disease and other medical problems\n",
            "as stated above who presented to us in the Emergency Department\n",
            "complaining of chest pain. The patient was admitted recently on\n",
            "January for bilateral iliac percutaneous transluminal coronary\n",
            "angioplasty and received a popliteal to posterior tibial bypass\n",
            "with saphenous vein on the right lower extremity. This was\n",
            "complicated by a non-Q wave myocardial infarction with a troponin\n",
            "level of 12.03 on March . The patient then became stable and\n",
            "was discharged to rehab on August . On the day of admission ,\n",
            "around 3 p.m. , the patient complained of 3/10 chest pain , headache\n",
            "as well as upper extremity pain. The patient received Mylanta at\n",
            "In Valley Hospital without any relief. She also received\n",
            "Nitroglycerin sublingual x 2 with some relief. Electrocardiogram\n",
            "was done at the rehab center at around 4 p.m. with no significant\n",
            "changes compared to her previous electrocardiograms. Once\n",
            "transport arrived to pick up patient to go to the Emergency\n",
            "Department at Triingap Medical Center , patient became pain\n",
            "free. She remained pain free for the entire transport as well as\n",
            "in the Emergency Room. She denies any radiation of her pain. There\n",
            "was no nausea or vomiting. However , given her significant past\n",
            "medical history of coronary artery disease as well as a very recent\n",
            "non-Q wave myocardial infarction , patient was admitted to the\n",
            "General Medicine Service for rule out myocardial infarction.\n",
            "PAST MEDICAL HISTORY: Most of it is as stated above. The patient\n",
            "had a cath in January , 1998 which showed 20% of\n",
            "LAD stenosis , 70% of diagonal branch stenosis , 95% of the left\n",
            "circumflex at the OM2 bifurcation and a stent was placed in the\n",
            "left circumflex. Her echo in July of 1998 showed an ejection\n",
            "fraction of 60% with mild AS and normal right ventricle function\n",
            "and size and some left ventricular hypertrophy. The patient has a\n",
            "coronary artery disease with a MIBI done in September of 1996 which was\n",
            "notable for inferior ischemia with 5/25 segments. In addition to\n",
            "her cardiac history and diabetes history , the patient also has a\n",
            "history of panic attacks.\n",
            "MEDICATIONS: On admission , the patient arrived with the following\n",
            "medications: 1. Amlodipine 10 mg q.d. 2. Enteric\n",
            "coated aspirin 325 mg q.d. 3. Atenolol 125 mg b.i.d. 4.\n",
            "Captopril 100 mg t.i.d. 5. Percocet 1-2 tablets q. 4-6 hours prn\n",
            "pain. 6. Axid 150 mg b.i.d. 7. Imdur 120 mg b.i.d. 8.\n",
            "Nitroglycerin sublingual tablets , 1 tablet every 5 minutes x 3 prn\n",
            "chest pain. 9. Ticlid 250 mg p.o. b.i.d.\n",
            "ALLERGIES: Penicillin gives the patient a rash. Patient also\n",
            "reports an allergic reaction to a flu shot and TB shot.\n",
            "SOCIAL HISTORY: The patient denies any history of smoking or\n",
            "alcohol.\n",
            "PHYSICAL EXAMINATION: In general , patient is a Spanish speaking\n",
            "elderly woman who does understand some\n",
            "English and was resting comfortably in bed in no acute distress.\n",
            "Vital signs , temperature 99.1 , heart rate 67 , blood pressure\n",
            "170/90 , respiratory rate 16. Oxygen saturation 98% on 2 liters\n",
            "nasal cannula. Skin examination warm , dry. HEENT , pupils equal ,\n",
            "round , reactive to light with extraocular muscles intact. Neck was\n",
            "supple. She had JVD of about 8 centimeters. Lung examination was\n",
            "clear to auscultation bilaterally. Cardiac examination reveals\n",
            "regular rate and rhythm with no murmur , rub or gallop. Abdomen\n",
            "examination reveals positive bowel sounds , soft , non-tender in\n",
            "palpation. On extremity examination , the patient has a long scar\n",
            "on her right lower extremity with stitches in place as evidence of\n",
            "her recent bypass surgery. The wound appears clean with no\n",
            "exudates and no erythema. There is some mild edema on the right\n",
            "lower extremity. There was no edema on the left lower extremity.\n",
            "HOSPITAL COURSE: The patient was admitted to the General Medicine\n",
            "Service for rule out myocardial infarction. On\n",
            "the day of admission , while on the floor , the patient had another\n",
            "episode of chest pain or chest pressure. However , she reported\n",
            "that this came on after she had eaten her meal and the pain was\n",
            "localized to the epigastrium with no radiation. Her\n",
            "electrocardiogram at that time showed no changes. She was given\n",
            "some Maalox and this relieved her pain. During this\n",
            "hospitalization , the patient did not have any cardiac related chest\n",
            "pain. She was ruled out for myocardial infarction with CK of 48\n",
            "and then 21 and then 14. On admission , she had a troponin level of\n",
            "0.17 , however , the patient did have a very recent myocardial\n",
            "infarction on March with a troponin level of 12.03. It is very\n",
            "possible that her troponin level of 0.17 is just the tail end of a\n",
            "recent myocardial infarction and the level is on it's way down.\n",
            "The patient remained chest pain free and afebrile during this\n",
            "entire hospital stay. She was stable. Her medical management was\n",
            "only changed with Hydralazine 10 mg t.i.d. added to her list of\n",
            "medications. Per Cardiology , it is okay for patient to go back to\n",
            "Honalt Hospital with the plan that she will need further\n",
            "cardiac studies after she is released from her rehab center.\n",
            "PROCEDURES: The patient did have a chest x-ray on admission\n",
            "which showed only mild vascular engorgement and\n",
            "otherwise normal chest x-ray. Her electrocardiogram on the 17 of August\n",
            "showed ST depressions in the lateral leads as well as T wave\n",
            "inversion in AVL. It was normal sinus rhythm. This is basically\n",
            "with no significant changes compared to the electrocardiogram done\n",
            "on February .\n",
            "LABORATORY TESTS: Her CBC was normal. Her chem-7 revealed\n",
            "sodium 134 , potassium 5.0 , chloride 97 , bicarb\n",
            "26 , BUN 10 , creatinine 0.8. Her CK and troponin level was as\n",
            "mentioned above.\n",
            "DISPOSITION: Discharge medications: 1. Enteric coated aspirin\n",
            "325 mg p.o. q.d. 2. Atenolol 125 mg p.o. b.i.d. 3.\n",
            "Captopril 100 mg p.o. t.i.d. 4. Colace 100 mg p.o. b.i.d. 5.\n",
            "Hydralazine 10 mg p.o. t.i.d. 6. Maalox 15 milliliters p.o. q. 6\n",
            "hours prn indigestion. 7. Nitroglycerin sublingual tablets 1 tab\n",
            "every 5 minutes x 3 prn chest pain. 8. Percocet 1-2 tablets p.o.\n",
            "q. 4-6 hours prn pain. 9. Axid 150 mg p.o. b.i.d. 10. Ticlid\n",
            "250 mg p.o. b.i.d. 11. Amlodipine 10 mg p.o. q.d. 12. Imdur 120\n",
            "mg p.o. b.i.d. Condition on discharge , stable. The patient is to\n",
            "be discharged to the Dije Hospital Medical Center where she came from prior\n",
            "to admission. The telephone number at the Nielcli Community Hospital is\n",
            "550-2854. Patient will be followed up by Dr. Rudy Torreon and\n",
            "Dr. Dewitt Tatel at JMC in about 2 weeks.\n",
            "Dictated By: MILFORD BERNOT , M.D. RQ49\n",
            "Attending: LANNY T. TUASON , M.D. TI64  RS322/5874\n",
            "Batch: 7589 Index No. ORYVUT3L8H D: 10/20/98\n",
            "T: 10/20/98\n",
            "CC: TH\n"
          ]
        }
      ],
      "source": [
        "print(text[512])"
      ]
    },
    {
      "cell_type": "code",
      "execution_count": 7,
      "metadata": {
        "colab": {
          "base_uri": "https://localhost:8080/",
          "height": 0
        },
        "id": "ickqg3KGJiSw",
        "outputId": "292b3d01-a4f4-405c-fdf9-5adc72173401"
      },
      "outputs": [
        {
          "output_type": "stream",
          "name": "stdout",
          "text": [
            "[1, 1, 1, 0, 1, 0, 1, 1, 1, 0, 1, 0, 0, 0, 0, 1, 1, 1, 1, 0, 1, 1, 0, 0, 1, 1, 0, 1, 1, 1, 0, 0, 1, 0, 1, 0, 1, 1, 0, 1, 1, 0, 1, 1, 1, 1, 0, 1, 1, 1, 1, 1, 0, 1, 1, 1, 1, 1, 1, 0, 1, 0, 0, 1, 0, 0, 1, 1, 1, 1, 1, 1, 0, 1, 1, 1, 1, 1, 1, 1, 1, 1, 0, 1, 1, 1, 1, 1, 1, 1, 1, 1, 1, 0, 1, 1, 1, 0, 1, 1, 1, 0, 1, 0, 1, 1, 1, 1, 1, 1, 1, 1, 0, 1, 1, 1, 0, 1, 1, 1, 1, 1, 1, 1, 1, 1, 1, 0, 1, 0, 1, 1, 1, 0, 1, 1, 0, 1, 1, 1, 0, 0, 1, 1, 1, 0, 0, 1, 0, 0, 1, 1, 1, 0, 1, 1, 0, 0, 0, 0, 1, 1, 0, 1, 1, 1, 0, 0, 1, 1, 1, 0, 1, 1, 0, 1, 0, 0, 0, 0, 0, 1, 1, 1, 1, 0, 1, 1, 1, 0, 1, 1, 1, 1, 0, 1, 1, 1, 0, 0, 1, 1, 0, 1, 1, 1, 1, 1, 1, 1, 1, 0, 0, 1, 0, 0, 1, 1, 1, 1, 1, 1, 0, 1, 1, 1, 1, 1, 1, 0, 1, 1, 1, 1, 0, 1, 1, 1, 0, 1, 1, 1, 1, 1, 1, 1, 1, 1, 1, 0, 0, 0, 1, 1, 1, 1, 1, 1, 1, 1, 0, 1, 0, 1, 0, 1, 1, 0, 1, 1, 1, 1, 1, 1, 0, 1, 0, 0, 1, 1, 1, 1, 1, 1, 0, 0, 1, 1, 0, 0, 1, 1, 1, 0, 0, 0, 0, 0, 0, 1, 1, 1, 1, 0, 1, 1, 1, 0, 1, 1, 1, 1, 1, 1, 1, 0, 1, 1, 1, 1, 1, 1, 0, 1, 1, 0, 1, 1, 1, 1, 0, 1, 1, 0, 1, 0, 1, 1, 1, 1, 0, 0, 1, 0, 1, 0, 1, 0, 1, 0, 0, 1, 1, 0, 1, 1, 1, 0, 0, 0, 0, 0, 0, 0, 1, 1, 0, 0, 1, 0, 1, 0, 1, 1, 1, 1, 1, 0, 1, 1, 0, 1, 0, 0, 0, 1, 1, 1, 1, 1, 0, 1, 1, 0, 1, 1, 1, 0, 1, 0, 1, 1, 0, 1, 1, 0, 0, 1, 1, 0, 0, 0, 1, 1, 1, 0, 1, 0, 1, 1, 1, 1, 1, 0, 0, 1, 0, 1, 1, 1, 0, 1, 1, 0, 1, 0, 1, 1, 1, 0, 1, 0, 1, 0, 0, 1, 1, 1, 0, 1, 1, 1, 0, 0, 1, 0, 1, 1, 1, 1, 1, 0, 0, 1, 0, 0, 1, 1, 1, 1, 1, 1, 0, 1, 0, 0, 1, 1, 1, 0, 1, 0, 1, 1, 1, 1, 1, 1, 1, 1, 0, 1, 1, 1, 0, 1, 1, 0, 1, 0, 0, 1, 1, 1, 1, 1, 1, 1, 0, 1, 0, 0, 1, 1, 1, 1, 1, 1, 1, 1, 1, 1, 1, 1, 0, 1, 0, 0, 1, 1, 1, 1, 0, 0, 1, 1, 0, 0, 1, 1, 1, 0, 1, 1, 1, 0, 0, 0, 1, 1, 1, 1, 1, 1, 0, 1, 0, 1, 1, 1, 1, 0, 1, 1, 0, 1, 1, 1, 0, 0, 0, 1, 1, 1, 1, 1, 1, 0, 1, 1, 1, 0, 1, 0, 0, 0, 1, 1, 1, 1, 1, 1, 0, 0, 1, 1, 0, 1, 0, 1, 0, 1, 1, 0, 1, 1, 1, 0, 1, 1, 1, 0, 1, 1, 0, 1, 1, 1, 1, 1, 0, 1, 1, 0]\n"
          ]
        }
      ],
      "source": [
        "print(labels)"
      ]
    },
    {
      "cell_type": "markdown",
      "metadata": {
        "id": "gJNkFb8JJiSw"
      },
      "source": [
        "# Preprocessing\n",
        "The machine learning classifier does not take text in directly it needs it to be preprocessed into a machine computable form.  Often this is a vector where each dimension is a feature, often for text classification each feature corresponds to a word.  This can lead to large unweildy vectors that are very sparse for example if we include all words in all documents a dimension could include mispellings or numbers which only occur once.  \n",
        "\n",
        "We need to perform preprocessing to reduce some of the dimensionality which can help to improve classification performance as well as the speed of learning and classifying new documents.  There are many types of preprocessing for example converting text to all lower case.  \n"
      ]
    },
    {
      "cell_type": "markdown",
      "metadata": {
        "id": "h-zoSXLRJiSw"
      },
      "source": [
        "## Stopwords\n",
        "We can remove stopwords - these are words that are very frequent in the English language but contain little information. Word classes such as prounouns: I, me, my, she, he, it, us, you, your; determiners (definte/indefinite articles, posssive, interrogative, demonstrative): the, a, their, what, whose, this, those, that. Some stopwords such as no or not might be useful to keep if you are using ngram features.  Ngrams are multiword phrases where n is usually 2 or 3, this can be useful in capturing negation like \"not have diabetes\", \"no CHF symptoms\".  \n"
      ]
    },
    {
      "cell_type": "code",
      "execution_count": 8,
      "metadata": {
        "colab": {
          "base_uri": "https://localhost:8080/",
          "height": 0
        },
        "id": "qLextFNQJiSw",
        "outputId": "e00d9f80-cbf4-4b28-a243-3e0eeca71bd4"
      },
      "outputs": [
        {
          "output_type": "stream",
          "name": "stdout",
          "text": [
            "Removing stopwords: dict_keys(['apple', 'day', 'keeps', 'doctor', 'away', 'patient', 'doesn', 'chf'])\n",
            "\n",
            "Removing stopwords and ngrams size 1-3: dict_keys(['apple', 'day', 'keeps', 'doctor', 'away', 'apple day', 'day keeps', 'keeps doctor', 'doctor away', 'apple day keeps', 'day keeps doctor', 'keeps doctor away', 'patient', 'doesn', 'chf', 'patient doesn', 'doesn chf', 'patient doesn chf'])\n",
            "\n",
            "Ngrams size 1-3: dict_keys(['an', 'apple', 'day', 'keeps', 'the', 'doctor', 'away', 'an apple', 'apple day', 'day keeps', 'keeps the', 'the doctor', 'doctor away', 'an apple day', 'apple day keeps', 'day keeps the', 'keeps the doctor', 'the doctor away', 'patient', 'doesn', 'have', 'chf', 'the patient', 'patient doesn', 'doesn have', 'have chf', 'the patient doesn', 'patient doesn have', 'doesn have chf'])\n"
          ]
        }
      ],
      "source": [
        "sentences = [\"An apple a day keeps the doctor away.\",\"The patient doesn't have CHF\"]\n",
        "v = CountVectorizer(stop_words='english')\n",
        "print('Removing stopwords:', v.fit(sentences).vocabulary_.keys())\n",
        "print()\n",
        "v = CountVectorizer(ngram_range=(1, 3), stop_words='english')\n",
        "print('Removing stopwords and ngrams size 1-3:', v.fit(sentences).vocabulary_.keys())\n",
        "print()\n",
        "v = CountVectorizer(ngram_range=(1, 3))\n",
        "print('Ngrams size 1-3:', v.fit(sentences).vocabulary_.keys())"
      ]
    },
    {
      "cell_type": "markdown",
      "metadata": {
        "id": "OdMytPGWJiSx"
      },
      "source": [
        "## Stemming\n",
        "Stemming is often a heuristic proccess of reducing inflected forms to a similar base for example organize, organizes, organized and organizing.  Similarly there are dereivationally related words with similar meetings that can be reduced such as democarcy, democratic and democratization.  \n",
        "\n",
        "The goal is to reduce sparsity which can hurt classifier performance.  However, stemming can contribute to increased polysemy: operate, operating, operates, operation, operative, operatives and operational all stem to \"oper\" using the Porter stemming algorithm.  "
      ]
    },
    {
      "cell_type": "code",
      "execution_count": 9,
      "metadata": {
        "colab": {
          "base_uri": "https://localhost:8080/",
          "height": 0
        },
        "id": "K36l1yJpJiSx",
        "outputId": "39680d9d-33ca-465d-ff36-a9d69b8c42e1"
      },
      "outputs": [
        {
          "output_type": "stream",
          "name": "stdout",
          "text": [
            "is it univers true? some sai the univers is the best in the universe.\n"
          ]
        }
      ],
      "source": [
        "print(stem_text(\"Is it universally true? Some say the university is the best in the Universe.\"))"
      ]
    },
    {
      "cell_type": "markdown",
      "metadata": {
        "id": "7mkbnXmjJiSx"
      },
      "source": [
        "# Classification Algorithms\n",
        "Different types of preprocessing can be combined to generate a feature vector.  These feature vecters are used as input to the classifier.  Both the preprocessing type, classification algorithms and tunable parameters for the classification algorithm will impact performance.  \n",
        "\n",
        "There are many types of classification algorithms such as Support Vector Machines (SVM), Random Forest, Decision Trees, etc. We will not go into specifics of them and will treat them as black boxes.  It is important to know that each algorithm has default parameters but they can be changed.  What is important is understanding the resulting metrics from a classifier to determine its' performance.\n",
        "\n",
        "## Metrics\n",
        "There are many different metrics available to evaluate classifier performance.  Each metric depends on the underlying dataset - for example the number of labels employed (in our case it is 2) and the poportion of labels within the dataset.  It also depends on the desired application of the classifier.  \n",
        "\n",
        "See the confusion matrix below. Because we are using binary labels (postive and negative) metrics will be addressed in terms of true postive - a document classification is positive and the label is positive. False positive - a document is classified as potitive but its' label is negative. False negative - a document is classified as negative but its' label is positive.  True negative - both the classfication of a document and its' label are negative.\n",
        "\n",
        "![Confusion Matrix](confusion_matrix.png)\n",
        "\n",
        "\n",
        "### Accuracy\n",
        "Accuracy is the proportion of documents correctly labeled by the classifer divided by the total number of documents the classifier has labeled.  For example accuacy is 90% if the classifier correctly labels 90 documents out of 100 that it labels.  Another way to think of this is (true positives + true negatives) / (total number of documents classified). This metric is only useful for balanced datasets where the proportion of labels is roughly equal.  A classifier can obtain 90% accuracy by only assigning one label if that label represents 90% of the documents.  \n",
        "\n",
        "### Precision\n",
        "Precision is a metric of preciseness it is the number of true postives/(true positives + false postivies).  Or another way to think of this is how often is the classifier correct when it labels a document as positive.  \n",
        "\n",
        "This metric is important when the goal of the task is to make sure all the things you label as postive are positive.  \n",
        "\n",
        "### Recall\n",
        "Recall is also the true positive rate or sensitvity.  It is true postivies/(true positives + false negatives) or in otherwords how many true positive documents do you label over all positive documents.    \n",
        "\n",
        "This metric is important when the goal of the task is to make sure we don't miss any potential positives.  \n",
        "\n",
        "Precision and recall are not mutually exclusive but in practice due to algorithm implementations there are often trade offs between precision and recall.  Usually one optimizes at the expense over the other.  It is important to understand what is most important to your task.\n",
        "\n",
        "### F1\n",
        "The F measure combines precision and recall scoress it is the harmonic mean: F1 = 2 * ((precision * recall)/(precision + recall)).  It is a way of combing precision and recall into a single number of overall performance to compare various classifiers.  In F1 precision and recall are evenly weighted, this weighting can be changed if precision or recall is more important than the other."
      ]
    },
    {
      "cell_type": "code",
      "execution_count": 15,
      "metadata": {
        "colab": {
          "base_uri": "https://localhost:8080/",
          "height": 0
        },
        "id": "CzbVKF4cJiSx",
        "outputId": "7dd58383-7cb8-4e8b-da7d-d638cbf3eaba"
      },
      "outputs": [
        {
          "output_type": "stream",
          "name": "stdout",
          "text": [
            "Classifier: RandomForestClassifier()\n",
            "Accuracy: 0.754658064516129\n",
            "Precision: 0.7416276468466109\n",
            "Recall: 0.9834173669467787\n",
            "F1: 0.8453749375055919\n",
            "\n",
            "Classifier: MultinomialNB()\n",
            "Accuracy: 0.679483870967742\n",
            "Precision: 0.679483870967742\n",
            "Recall: 1.0\n",
            "F1: 0.8091575091575092\n",
            "\n",
            "Classifier: SVC(class_weight='balanced', kernel='linear')\n",
            "Accuracy: 0.8203612903225806\n",
            "Precision: 0.8508430024546435\n",
            "Recall: 0.893781512605042\n",
            "F1: 0.871061269430459\n",
            "\n",
            "Classifier: DecisionTreeClassifier(class_weight='balanced', criterion='entropy',\n",
            "                       random_state=198273)\n",
            "Accuracy: 0.8942193548387097\n",
            "Precision: 0.9337096330711827\n",
            "Recall: 0.9102521008403361\n",
            "F1: 0.9211332841571342\n",
            "\n"
          ]
        }
      ],
      "source": [
        "#Scoring metrics we're interested in\n",
        "scoring = {'acc': 'accuracy',\n",
        "           'precision': 'precision',\n",
        "           'recall': 'recall',\n",
        "           'f1': 'f1'}\n",
        "\n",
        "#Want to initialize the random number generator with the same seed for reapeatable experiments\n",
        "random_state = 198273\n",
        "\n",
        "#Our preprocessing steps\n",
        "def preprocess(X):\n",
        "        return preprocess_string(X, filters=[lambda x: x.lower(), strip_multiple_whitespaces, remove_stopwords, stem_text])\n",
        "\n",
        "#Notice the count vectorizer/tfididf trnasformer.  We are using a pipeline here so we are first applying the\n",
        "#steps in preprocess (converting the string to lowercase, removing multiple spaces, removing stopwords then stemming).\n",
        "#This is followed by the count vectorizer then the tfidf transformer.\n",
        "preprocess_pipeline = Pipeline([\n",
        "    ('vect', CountVectorizer(analyzer=preprocess)),\n",
        "    ('tfidf', TfidfTransformer()),\n",
        "])\n",
        "\n",
        "features = preprocess_pipeline.fit_transform(text)\n",
        "for clf in [\n",
        "        RandomForestClassifier(),\n",
        "        MultinomialNB(),\n",
        "        SVC(kernel='linear', class_weight='balanced'),\n",
        "        DecisionTreeClassifier(criterion='entropy', class_weight='balanced', random_state=random_state)\n",
        "    ]:\n",
        "    scores = cross_validate(clf, features, labels, scoring=scoring,\n",
        "                         cv=5, return_train_score=False)\n",
        "    print(\"Classifier:\", clf)\n",
        "    #print(scores)\n",
        "    print(\"Accuracy:\", scores['test_acc'].mean())\n",
        "    print(\"Precision:\", scores['test_precision'].mean())\n",
        "    print(\"Recall:\", scores['test_recall'].mean())\n",
        "    print(\"F1:\", scores['test_f1'].mean())\n",
        "    print()"
      ]
    },
    {
      "cell_type": "markdown",
      "metadata": {
        "id": "4t85TTnuJiSx"
      },
      "source": [
        "## Question 1: Classification Analysis\n",
        "You have now seen an example of document classification from start to finish.  In the box below write a few paragraphs comparing the performance of the various algorithms.  Some questions to think about:\n",
        "\n",
        "Is accuracy an appropriate metric given the number of documents with Diabetes vs without?  \n",
        "In what context would precision be more importatant than recall?\n",
        "When would the opposite be true?\n"
      ]
    },
    {
      "cell_type": "markdown",
      "metadata": {
        "id": "27A5mjTWJiSx"
      },
      "source": [
        "Accuracy is an appropriate metric when the number of documents with and without Diabetes is similar. In this case, the number of documents with diabetes is about 2 times the number of documents without. I think in this case it is still appropriate.\n",
        "\n",
        "Precision is more important in contexts where the cost of a false positive is high. For example, a false positive of cancer can trigger a lot of downstream testing and emotional burden.\n",
        "\n",
        "Recall is crucial in situations where failing to identify a positive case has serious consequences. For example, a heart attack."
      ]
    },
    {
      "cell_type": "markdown",
      "metadata": {
        "id": "1QMkRpcHJiSx"
      },
      "source": [
        "## Question 2: Effects of preprocesing\n",
        "Now that you have seen a classification example, experiment with different types of features - you can modify the preprocess function below by changing the filters array: [lambda x: x.lower(), strip_multiple_whitespaces, remove_stopwords, stem_text] you can add or remove preprocessing functions, alternatively you can modify the preprocess_pipeline:\n",
        "\n",
        "preprocess_pipeline = Pipeline([\n",
        "    ('vect', CountVectorizer(analyzer=preprocess)),\n",
        "    ('tfidf', TfidfTransformer()),\n",
        "])\n",
        "\n",
        "by removing the TfidfTransformer, or passing different parameters into TfidfTransformer or the CountVectorizer (https://scikit-learn.org/stable/modules/generated/sklearn.feature_extraction.text.CountVectorizer.html)  \n",
        "\n",
        "Perform at least 3 modifications from the baseline case above and write an analysis answering the questions in the box below.  "
      ]
    },
    {
      "cell_type": "code",
      "execution_count": 20,
      "metadata": {
        "colab": {
          "base_uri": "https://localhost:8080/",
          "height": 0
        },
        "id": "FhKm1VD4JiSx",
        "outputId": "da6c927c-6c62-4df3-89fd-411f2d26709f"
      },
      "outputs": [
        {
          "output_type": "stream",
          "name": "stdout",
          "text": [
            "Classifier: RandomForestClassifier()\n",
            "Accuracy: 0.7355096774193548\n",
            "Precision: 0.728851810106006\n",
            "Recall: 0.9740336134453782\n",
            "F1: 0.8336475132599602\n",
            "\n",
            "Classifier: MultinomialNB()\n",
            "Accuracy: 0.679483870967742\n",
            "Precision: 0.679483870967742\n",
            "Recall: 1.0\n",
            "F1: 0.8091575091575092\n",
            "\n",
            "Classifier: SVC(class_weight='balanced', kernel='linear')\n",
            "Accuracy: 0.7771225806451614\n",
            "Precision: 0.8334360160049725\n",
            "Recall: 0.8395238095238096\n",
            "F1: 0.8358026633907816\n",
            "\n",
            "Classifier: DecisionTreeClassifier(class_weight='balanced', criterion='entropy',\n",
            "                       random_state=198273)\n",
            "Accuracy: 0.9118451612903226\n",
            "Precision: 0.932849775243756\n",
            "Recall: 0.9385714285714286\n",
            "F1: 0.9352397480913739\n",
            "\n"
          ]
        }
      ],
      "source": [
        "#Our preprocessing steps\n",
        "def preprocess(X):\n",
        "        return preprocess_string(X, filters=[lambda x: x.lower(), strip_multiple_whitespaces, remove_stopwords, stem_text])\n",
        "\n",
        "#Notice the count vectorizer/tfididf trnasformer.  We are using a pipeline here so we are first applying the\n",
        "#steps in preprocess (converting the string to lowercase, removing multiple spaces, removing stopwords then stemming).\n",
        "#This is followed by the count vectorizer then the tfidf transformer.\n",
        "preprocess_pipeline = Pipeline([\n",
        "    ('vect', CountVectorizer(analyzer=preprocess)),#, max_df = 0.95)),\n",
        "    ('tfidf', TfidfTransformer()),\n",
        "])\n",
        "\n",
        "features = preprocess_pipeline.fit_transform(text)\n",
        "for clf in [\n",
        "        RandomForestClassifier(),\n",
        "        MultinomialNB(),\n",
        "        SVC(kernel='linear', class_weight='balanced'),\n",
        "        DecisionTreeClassifier(criterion='entropy', class_weight='balanced', random_state=random_state)\n",
        "    ]:\n",
        "    scores = cross_validate(clf, features, labels, scoring=scoring,\n",
        "                         cv=5, return_train_score=False)\n",
        "    print(\"Classifier:\", clf)\n",
        "    #print(scores)\n",
        "    print(\"Accuracy:\", scores['test_acc'].mean())\n",
        "    print(\"Precision:\", scores['test_precision'].mean())\n",
        "    print(\"Recall:\", scores['test_recall'].mean())\n",
        "    print(\"F1:\", scores['test_f1'].mean())\n",
        "    print()"
      ]
    },
    {
      "cell_type": "markdown",
      "metadata": {
        "id": "QpSzkYgfJiSx"
      },
      "source": [
        "1.  Describe what you modified.\n",
        "2.  What is the intention of the modfications? What did you hope that the modifications would do?\n",
        "3.  Were the modifications successful?\n",
        "4.  Compare performance to the baseline case.\n",
        "\n",
        "Modification 1:\n",
        "1.  Describe what you modified.\n",
        "- I removed the TfidfTransformer\n",
        "2.  What is the intention of the modfications? What did you hope that the modifications would do?\n",
        "- This change will make the classification rely purely on raw counts from CountVectorizer. So it no longer takes the document length and term frequency across documents into consideration. This might affect the model's ability to handle common words that could be less informative about the document's class.\n",
        "3.  Were the modifications successful? Yes\n",
        "4.  Compare performance to the baseline case.\n",
        "- It did not change the performance much. The accuracy, precision, recall and F1 might be slightly better for RandomForestClassifier, MultinomialNB, SVC, but worse for DecisionTreeClassifier than before.\n",
        "\n",
        "Modification 2:\n",
        "1.  Describe what you modified.\n",
        "- modified the parameter for CountVectorizer, added max_df = 0.95\n",
        "2.  What is the intention of the modfications? What did you hope that the modifications would do?\n",
        "- This removes terms that appear in 95% of the documents. This helps reduce the weight of very common words that might not be useful in differentiating  \n",
        "3.  Were the modifications successful? Yes\n",
        "4.  Compare performance to the baseline case.\n",
        "- the performance of the new model is slightly better for RandomForestClassifier but not others.\n",
        "\n",
        "Modification 3:\n",
        "1.  Describe what you modified.\n",
        "- Remove remove_stopwords and stem_text\n",
        "2.  What is the intention of the modfications? What did you hope that the modifications would do?\n",
        "- Not removing the stop words might allow the model to make better use of sentence structure.\n",
        "3.  Were the modifications successful? Yes\n",
        "4.  Compare performance to the baseline case.\n",
        "The performance is slightly worse across all models."
      ]
    },
    {
      "cell_type": "markdown",
      "metadata": {
        "id": "29nRBoCgJiSx"
      },
      "source": [
        "## Question 3: Model Evaluation:\n",
        "\n",
        "- In addition to accuracy, precision, recall, and F1 score, also calculate the ROC AUC score for each classifier. Compare the ROC AUC scores - which classifier has the highest AUC? What does this metric tell you about discriminative power?\n",
        "\n",
        "  *   Decision tree has the highest ROC AUC score. This suggests that the decision tree classifier has the highest discriminative power.\n",
        "\n",
        "\n",
        "- Plot the precision-recall curves for each classifier. At what recall level does precision start to drop off substantially for each one? What does this tell you about which classifier to use if you need high recall vs high precision?\n",
        "\n",
        "\n",
        "\n",
        "  *   for random forest, when recall reaches about 0.2; for multinomial NB, it had a dip in the curve when recall is about 0.1; SVC, when recall = 0.25; decision tree, when recall = 0.9\n",
        "\n",
        "\n",
        "- Print out the confusion matrix for each classifier. Which one has the most balanced performance across the classes? Which ones are making more false positive vs false negative errors?\n",
        "\n",
        "  *   None of them is very balanced. Decision Tree is relatively more balanced. Most False Positives: The Multinomial NB; Most False Negatives: no one significantly, SVC more than decision tree.\n",
        "\n",
        "\n",
        "\n",
        "\n"
      ]
    },
    {
      "cell_type": "code",
      "source": [
        "from sklearn.model_selection import train_test_split\n",
        "\n",
        "import matplotlib.pyplot as plt\n",
        "from sklearn.pipeline import Pipeline\n",
        "from sklearn.feature_extraction.text import CountVectorizer, TfidfTransformer\n",
        "from sklearn.metrics import precision_recall_curve, roc_auc_score, confusion_matrix\n",
        "from sklearn.model_selection import train_test_split, cross_validate\n",
        "from sklearn.ensemble import RandomForestClassifier\n",
        "from sklearn.naive_bayes import MultinomialNB\n",
        "from sklearn.svm import SVC\n",
        "from sklearn.tree import DecisionTreeClassifier\n",
        "from sklearn.base import clone\n",
        "\n",
        "# Define your preprocess and other necessary functions here\n",
        "\n",
        "def preprocess(X):\n",
        "    return preprocess_string(X, filters=[lambda x: x.lower(), strip_multiple_whitespaces])\n",
        "\n",
        "# Setup the pipeline\n",
        "preprocess_pipeline = Pipeline([\n",
        "    ('vect', CountVectorizer(analyzer=preprocess)),\n",
        "    ('tfidf', TfidfTransformer()),\n",
        "])\n",
        "\n",
        "# Load and transform the data\n",
        "features = preprocess_pipeline.fit_transform(text)\n",
        "\n",
        "# Split the data\n",
        "X_train, X_test, y_train, y_test = train_test_split(features, labels, test_size=0.2, random_state=60)\n",
        "\n",
        "# Define classifiers\n",
        "classifiers = {\n",
        "    \"Random Forest\": RandomForestClassifier(),\n",
        "    \"Multinomial NB\": MultinomialNB(),\n",
        "    \"SVC\": SVC(kernel='linear', class_weight='balanced', probability=True),\n",
        "    \"Decision Tree\": DecisionTreeClassifier(criterion='entropy', class_weight='balanced', random_state=60)\n",
        "}\n",
        "\n",
        "# Train and evaluate each classifier\n",
        "for name, clf in classifiers.items():\n",
        "    model = clone(clf)\n",
        "    model.fit(X_train, y_train)\n",
        "    y_pred = model.predict(X_test)\n",
        "    y_proba = model.predict_proba(X_test)[:, 1] if hasattr(model, \"predict_proba\") else model.decision_function(X_test)\n",
        "    roc_auc = roc_auc_score(y_test, y_proba)\n",
        "\n",
        "    precision, recall, _ = precision_recall_curve(y_test, y_proba)\n",
        "    plt.figure()\n",
        "    plt.plot(recall, precision, label=f'ROC AUC={roc_auc:.2f}')\n",
        "    plt.xlabel('Recall')\n",
        "    plt.ylabel('Precision')\n",
        "    plt.title(f'Precision-Recall Curve for {name}')\n",
        "    plt.legend()\n",
        "    plt.show()\n",
        "\n",
        "    print(f\"Confusion Matrix for {name}:\")\n",
        "    print(confusion_matrix(y_test, y_pred))\n"
      ],
      "metadata": {
        "colab": {
          "base_uri": "https://localhost:8080/",
          "height": 1874
        },
        "id": "wZoDa6DdV7UM",
        "outputId": "3c2b4326-e52e-4b62-e9b8-d2afcad558dc"
      },
      "execution_count": 37,
      "outputs": [
        {
          "output_type": "display_data",
          "data": {
            "text/plain": [
              "<Figure size 640x480 with 1 Axes>"
            ],
            "image/png": "[encoded data removed]"
          },
          "metadata": {}
        },
        {
          "output_type": "stream",
          "name": "stdout",
          "text": [
            "Confusion Matrix for Random Forest:\n",
            "[[ 7 34]\n",
            " [ 0 84]]\n"
          ]
        },
        {
          "output_type": "display_data",
          "data": {
            "text/plain": [
              "<Figure size 640x480 with 1 Axes>"
            ],
            "image/png": "[encoded data removed]"
          },
          "metadata": {}
        },
        {
          "output_type": "stream",
          "name": "stdout",
          "text": [
            "Confusion Matrix for Multinomial NB:\n",
            "[[ 0 41]\n",
            " [ 0 84]]\n"
          ]
        },
        {
          "output_type": "display_data",
          "data": {
            "text/plain": [
              "<Figure size 640x480 with 1 Axes>"
            ],
            "image/png": "[encoded data removed]"
          },
          "metadata": {}
        },
        {
          "output_type": "stream",
          "name": "stdout",
          "text": [
            "Confusion Matrix for SVC:\n",
            "[[24 17]\n",
            " [ 6 78]]\n"
          ]
        },
        {
          "output_type": "display_data",
          "data": {
            "text/plain": [
              "<Figure size 640x480 with 1 Axes>"
            ],
            "image/png": "[encoded data removed]"
          },
          "metadata": {}
        },
        {
          "output_type": "stream",
          "name": "stdout",
          "text": [
            "Confusion Matrix for Decision Tree:\n",
            "[[35  6]\n",
            " [ 4 80]]\n"
          ]
        }
      ]
    },
    {
      "cell_type": "markdown",
      "metadata": {
        "id": "E_5J03ZpJiSx"
      },
      "source": [
        "## Question 4 Feature Extraction:\n",
        "(you can try this only on your best performing model)\n",
        "- Try using word embeddings like word2vec or GloVe vectors as features instead of TF-IDF. Does this improve or worsen performance? Why do you think this is?\n",
        "\n",
        "It made the performance worse. maybe clinical notes contains too much domain-specific language\n",
        "\n",
        "\n",
        "- Experiment with one or two adding other textual features like document length, average word length, readability scores, etc. Do any of these metadata features provide useful signal?\n",
        "\n",
        "After incorporating these metadata, it does not seem to help either.\n",
        "\n",
        "- Try different n-gram ranges in the CountVectorizer. Do bigrams or trigrams improve over just unigrams? At what point do larger n-grams start to hurt due to sparsity?\n",
        "\n",
        "Bigrams and trigrams do improve the performance. When it reaches 4 it starts to hurt."
      ]
    },
    {
      "cell_type": "code",
      "source": [
        "!pip install textstat\n",
        "\n",
        "import numpy as np\n",
        "from gensim.models import Word2Vec\n",
        "from sklearn.pipeline import Pipeline, make_pipeline\n",
        "from sklearn.base import BaseEstimator, TransformerMixin\n",
        "from sklearn.model_selection import cross_validate, train_test_split\n",
        "from textstat import flesch_reading_ease\n",
        "\n",
        "\n",
        "# Custom transformer to preprocess text and compute Word2Vec embeddings\n",
        "class Word2VecVectorizer(BaseEstimator, TransformerMixin):\n",
        "    def __init__(self, size=100, window=5, min_count=2, workers=4):\n",
        "        self.size = size\n",
        "        self.window = window\n",
        "        self.min_count = min_count\n",
        "        self.workers = workers\n",
        "        self.model = None\n",
        "        self.w2v = None\n",
        "\n",
        "    def fit(self, X, y=None):\n",
        "        # Assuming X is a list of tokenized texts\n",
        "        self.model = Word2Vec(X, vector_size=self.size, window=self.window, min_count=self.min_count, workers=self.workers)\n",
        "        self.w2v = {w: vec for w, vec in zip(self.model.wv.index_to_key, self.model.wv.vectors)}\n",
        "        return self\n",
        "\n",
        "    def transform(self, X):\n",
        "        # Average Word2Vec vectors for each document\n",
        "        return np.array([\n",
        "            np.mean([self.w2v.get(w, np.zeros(self.size)) for w in words], axis=0)\n",
        "            for words in X\n",
        "        ])\n",
        "\n",
        "# Preprocessing function to tokenize and preprocess text\n",
        "def preprocess(X):\n",
        "    from gensim.parsing.preprocessing import preprocess_string, strip_multiple_whitespaces, remove_stopwords, stem_text\n",
        "    # Apply preprocessing steps\n",
        "    return [preprocess_string(x, filters=[lambda x: x.lower(), strip_multiple_whitespaces, remove_stopwords, stem_text]) for x in X]\n",
        "\n",
        "# Set up the pipeline\n",
        "preprocess_pipeline = Pipeline([\n",
        "    ('preprocess', make_pipeline(Word2VecVectorizer(size=100, window=5, min_count=2))),\n",
        "])\n",
        "\n",
        "features = preprocess_pipeline.fit_transform(text)\n",
        "for clf in [\n",
        "        DecisionTreeClassifier(criterion='entropy', class_weight='balanced', random_state=random_state)\n",
        "    ]:\n",
        "    scores = cross_validate(clf, features, labels, scoring=scoring,\n",
        "                         cv=5, return_train_score=False)\n",
        "    print(\"Classifier:\", clf)\n",
        "    #print(scores)\n",
        "    print(\"Accuracy:\", scores['test_acc'].mean())\n",
        "    print(\"Precision:\", scores['test_precision'].mean())\n",
        "    print(\"Recall:\", scores['test_recall'].mean())\n",
        "    print(\"F1:\", scores['test_f1'].mean())\n",
        "    print()"
      ],
      "metadata": {
        "colab": {
          "base_uri": "https://localhost:8080/",
          "height": 0
        },
        "id": "4b_5KpMWiJ2e",
        "outputId": "4ba8e801-f37d-471e-f36c-59df84cdee96"
      },
      "execution_count": 63,
      "outputs": [
        {
          "output_type": "stream",
          "name": "stdout",
          "text": [
            "Collecting textstat\n",
            "\u001b[33m  WARNING: Retrying (Retry(total=4, connect=None, read=None, redirect=None, status=None)) after connection broken by 'ReadTimeoutError(\"HTTPSConnectionPool(host='files.pythonhosted.org', port=443): Read timed out. (read timeout=15)\")': /packages/d8/33/302083f47386d651e4b42923f5206eeb9ee0545ea94bb506324d05fd2274/textstat-0.7.3-py3-none-any.whl\u001b[0m\u001b[33m\n",
            "\u001b[0m  Downloading textstat-0.7.3-py3-none-any.whl (105 kB)\n",
            "\u001b[2K     \u001b[90m━━━━━━━━━━━━━━━━━━━━━━━━━━━━━━━━━━━━━━━━\u001b[0m \u001b[32m105.1/105.1 kB\u001b[0m \u001b[31m2.6 MB/s\u001b[0m eta \u001b[36m0:00:00\u001b[0m\n",
            "\u001b[?25hCollecting pyphen (from textstat)\n",
            "  Downloading pyphen-0.15.0-py3-none-any.whl (2.1 MB)\n",
            "\u001b[2K     \u001b[90m━━━━━━━━━━━━━━━━━━━━━━━━━━━━━━━━━━━━━━━━\u001b[0m \u001b[32m2.1/2.1 MB\u001b[0m \u001b[31m11.7 MB/s\u001b[0m eta \u001b[36m0:00:00\u001b[0m\n",
            "\u001b[?25hInstalling collected packages: pyphen, textstat\n",
            "Successfully installed pyphen-0.15.0 textstat-0.7.3\n"
          ]
        },
        {
          "output_type": "stream",
          "name": "stderr",
          "text": [
            "WARNING:gensim.models.word2vec:Each 'sentences' item should be a list of words (usually unicode strings). First item here is instead plain <class 'str'>.\n"
          ]
        },
        {
          "output_type": "stream",
          "name": "stdout",
          "text": [
            "Classifier: DecisionTreeClassifier(class_weight='balanced', criterion='entropy',\n",
            "                       random_state=198273)\n",
            "Accuracy: 0.6088645161290323\n",
            "Precision: 0.7049152419761514\n",
            "Recall: 0.7286274509803922\n",
            "F1: 0.7161252479451334\n",
            "\n"
          ]
        }
      ]
    },
    {
      "cell_type": "code",
      "source": [
        "import numpy as np\n",
        "from sklearn.base import BaseEstimator, TransformerMixin\n",
        "from sklearn.pipeline import Pipeline, FeatureUnion\n",
        "from sklearn.ensemble import RandomForestClassifier\n",
        "from sklearn.preprocessing import StandardScaler\n",
        "from gensim.models import Word2Vec\n",
        "from textstat import flesch_reading_ease\n",
        "from sklearn.tree import DecisionTreeClassifier\n",
        "from sklearn.model_selection import train_test_split, cross_validate\n",
        "\n",
        "# Assuming preprocess returns a list of lists of words (tokens)\n",
        "def preprocess(X):\n",
        "    from gensim.parsing.preprocessing import preprocess_string, strip_multiple_whitespaces, remove_stopwords, stem_text\n",
        "    return [preprocess_string(x, filters=[lambda x: x.lower(), strip_multiple_whitespaces, remove_stopwords, stem_text]).split() for x in X]\n",
        "\n",
        "# Feature extractors\n",
        "class Word2VecVectorizer(BaseEstimator, TransformerMixin):\n",
        "    def __init__(self, size=100, window=5, min_count=2, workers=4):\n",
        "        self.size = size\n",
        "        self.window = window\n",
        "        self.min_count = min_count\n",
        "        self.workers = workers\n",
        "        self.model = None\n",
        "        self.w2v = None\n",
        "\n",
        "    def fit(self, X, y=None):\n",
        "        self.model = Word2Vec(X, vector_size=self.size, window=self.window, min_count=self.min_count, workers=self.workers)\n",
        "        self.w2v = {w: vec for w, vec in zip(self.model.wv.index_to_key, self.model.wv.vectors)}\n",
        "        return self\n",
        "\n",
        "    def transform(self, X):\n",
        "        return np.array([\n",
        "            np.mean([self.w2v.get(word, np.zeros(self.size)) for word in text], axis=0)\n",
        "            for text in X\n",
        "        ])\n",
        "\n",
        "class TextualMetadataTransformer(BaseEstimator, TransformerMixin):\n",
        "    def fit(self, X, y=None):\n",
        "        return self\n",
        "\n",
        "    def transform(self, X):\n",
        "        return np.array([\n",
        "            [len(text), np.mean([len(word) for word in text]), flesch_reading_ease(' '.join(text))]\n",
        "            for text in X\n",
        "        ])\n",
        "\n",
        "# Full pipeline\n",
        "pipeline = Pipeline([\n",
        "    ('features', FeatureUnion([\n",
        "        ('w2v', Word2VecVectorizer(size=100, window=5, min_count=2)),\n",
        "        ('meta', TextualMetadataTransformer())\n",
        "    ])),\n",
        "    ('scale', StandardScaler())\n",
        "])\n",
        "\n",
        "features = pipeline.fit_transform(text)\n",
        "for clf in [\n",
        "        DecisionTreeClassifier(criterion='entropy', class_weight='balanced', random_state=random_state)\n",
        "    ]:\n",
        "    scores = cross_validate(clf, features, labels, scoring=scoring,\n",
        "                         cv=5, return_train_score=False)\n",
        "    print(\"Classifier:\", clf)\n",
        "    #print(scores)\n",
        "    print(\"Accuracy:\", scores['test_acc'].mean())\n",
        "    print(\"Precision:\", scores['test_precision'].mean())\n",
        "    print(\"Recall:\", scores['test_recall'].mean())\n",
        "    print(\"F1:\", scores['test_f1'].mean())\n",
        "    print()"
      ],
      "metadata": {
        "colab": {
          "base_uri": "https://localhost:8080/",
          "height": 0
        },
        "id": "oh3cMRsRrYyA",
        "outputId": "c22af1e9-1422-43b2-eb48-46122eb12b50"
      },
      "execution_count": 67,
      "outputs": [
        {
          "output_type": "stream",
          "name": "stderr",
          "text": [
            "WARNING:gensim.models.word2vec:Each 'sentences' item should be a list of words (usually unicode strings). First item here is instead plain <class 'str'>.\n"
          ]
        },
        {
          "output_type": "stream",
          "name": "stdout",
          "text": [
            "Classifier: DecisionTreeClassifier(class_weight='balanced', criterion='entropy',\n",
            "                       random_state=198273)\n",
            "Accuracy: 0.578490322580645\n",
            "Precision: 0.6936814674428049\n",
            "Recall: 0.6792156862745097\n",
            "F1: 0.6861021798766997\n",
            "\n"
          ]
        }
      ]
    },
    {
      "cell_type": "code",
      "source": [
        "#Our preprocessing steps\n",
        "def preprocess(X):\n",
        "        return preprocess_string(X, filters=[lambda x: x.lower(), strip_multiple_whitespaces, remove_stopwords, stem_text])\n",
        "\n",
        "#Notice the count vectorizer/tfididf trnasformer.  We are using a pipeline here so we are first applying the\n",
        "#steps in preprocess (converting the string to lowercase, removing multiple spaces, removing stopwords then stemming).\n",
        "#This is followed by the count vectorizer then the tfidf transformer.\n",
        "preprocess_pipeline = Pipeline([\n",
        "    ('vect', CountVectorizer(analyzer=preprocess, ngram_range=(1, 4))),\n",
        "    ('tfidf', TfidfTransformer()),\n",
        "])\n",
        "\n",
        "features = preprocess_pipeline.fit_transform(text)\n",
        "for clf in [\n",
        "        RandomForestClassifier(),\n",
        "        MultinomialNB(),\n",
        "        SVC(kernel='linear', class_weight='balanced'),\n",
        "        DecisionTreeClassifier(criterion='entropy', class_weight='balanced', random_state=random_state)\n",
        "    ]:\n",
        "    scores = cross_validate(clf, features, labels, scoring=scoring,\n",
        "                         cv=5, return_train_score=False)\n",
        "    print(\"Classifier:\", clf)\n",
        "    #print(scores)\n",
        "    print(\"Accuracy:\", scores['test_acc'].mean())\n",
        "    print(\"Precision:\", scores['test_precision'].mean())\n",
        "    print(\"Recall:\", scores['test_recall'].mean())\n",
        "    print(\"F1:\", scores['test_f1'].mean())\n",
        "    print()"
      ],
      "metadata": {
        "colab": {
          "base_uri": "https://localhost:8080/",
          "height": 0
        },
        "id": "r3KeBUy9s2Hh",
        "outputId": "4608c13c-b9c4-4e13-b04c-7c7b91e3c65a"
      },
      "execution_count": 74,
      "outputs": [
        {
          "output_type": "stream",
          "name": "stderr",
          "text": [
            "/usr/local/lib/python3.10/dist-packages/sklearn/feature_extraction/text.py:544: UserWarning: The parameter 'ngram_range' will not be used since 'analyzer' is callable'\n",
            "  warnings.warn(\n"
          ]
        },
        {
          "output_type": "stream",
          "name": "stdout",
          "text": [
            "Classifier: RandomForestClassifier()\n",
            "Accuracy: 0.748283870967742\n",
            "Precision: 0.7431776797294039\n",
            "Recall: 0.9645938375350142\n",
            "F1: 0.8392336763765336\n",
            "\n",
            "Classifier: MultinomialNB()\n",
            "Accuracy: 0.679483870967742\n",
            "Precision: 0.679483870967742\n",
            "Recall: 1.0\n",
            "F1: 0.8091575091575092\n",
            "\n",
            "Classifier: SVC(class_weight='balanced', kernel='linear')\n",
            "Accuracy: 0.7930838709677419\n",
            "Precision: 0.8344708985699636\n",
            "Recall: 0.8701680672268907\n",
            "F1: 0.8508028675581327\n",
            "\n",
            "Classifier: DecisionTreeClassifier(class_weight='balanced', criterion='entropy',\n",
            "                       random_state=198273)\n",
            "Accuracy: 0.9118967741935483\n",
            "Precision: 0.94360074757659\n",
            "Recall: 0.926890756302521\n",
            "F1: 0.93479516289452\n",
            "\n"
          ]
        }
      ]
    },
    {
      "cell_type": "markdown",
      "metadata": {
        "id": "xtdV_N9qJiSx"
      },
      "source": [
        "## Question 5 Train/Test Splits and Cross-Validation:\n",
        "(you can try this only on your best performing model)\n",
        "- Instead of 5-fold CV, try 10-fold. Does the larger number of folds lead to less variance in scores across folds?\n",
        "\n",
        "\n",
        "\n",
        "  *   Yes it does.\n",
        "\n",
        "\n",
        "- Instead of KFold CV, try RepeatedKFold or RepeatedStratifiedKFold. This will shuffle and repeat the CV process multiple times. Do the averaged scores have narrower confidence intervals?\n",
        "\n",
        "\n",
        "\n",
        "  *   Yes, they have a narrower confidence intervals\n",
        "\n",
        "\n",
        "- Hold out a separate test set first before doing cross-validation on the training set. This will give you a final unbiased estimate of generalization error in addition to the CV scores.\n",
        "\n",
        "\n"
      ]
    },
    {
      "cell_type": "code",
      "source": [
        "#Scoring metrics we're interested in\n",
        "scoring = {'acc': 'accuracy',\n",
        "           'precision': 'precision',\n",
        "           'recall': 'recall',\n",
        "           'f1': 'f1'}\n",
        "\n",
        "#Want to initialize the random number generator with the same seed for reapeatable experiments\n",
        "random_state = 198273\n",
        "\n",
        "#Our preprocessing steps\n",
        "def preprocess(X):\n",
        "        return preprocess_string(X, filters=[lambda x: x.lower(), strip_multiple_whitespaces, remove_stopwords, stem_text])\n",
        "\n",
        "#Notice the count vectorizer/tfididf trnasformer.  We are using a pipeline here so we are first applying the\n",
        "#steps in preprocess (converting the string to lowercase, removing multiple spaces, removing stopwords then stemming).\n",
        "#This is followed by the count vectorizer then the tfidf transformer.\n",
        "preprocess_pipeline = Pipeline([\n",
        "    ('vect', CountVectorizer(analyzer=preprocess)),\n",
        "    ('tfidf', TfidfTransformer()),\n",
        "])\n",
        "\n",
        "features = preprocess_pipeline.fit_transform(text)\n",
        "for clf in [\n",
        "        RandomForestClassifier(),\n",
        "        MultinomialNB(),\n",
        "        SVC(kernel='linear', class_weight='balanced'),\n",
        "        DecisionTreeClassifier(criterion='entropy', class_weight='balanced', random_state=random_state)\n",
        "    ]:\n",
        "    scores = cross_validate(clf, features, labels, scoring=scoring,\n",
        "                         cv=10, return_train_score=False)\n",
        "    print(\"Classifier:\", clf)\n",
        "    #print(scores)\n",
        "    print(\"Accuracy:\", scores['test_acc'].mean())\n",
        "    print(\"Precision:\", scores['test_precision'].mean())\n",
        "    print(\"Recall:\", scores['test_recall'].mean())\n",
        "    print(\"F1:\", scores['test_f1'].mean())\n",
        "    print()"
      ],
      "metadata": {
        "colab": {
          "base_uri": "https://localhost:8080/",
          "height": 0
        },
        "id": "Jv0rFT4_vAvQ",
        "outputId": "372ccbd3-df38-4f92-ebfa-fb7470ae7f4f"
      },
      "execution_count": 77,
      "outputs": [
        {
          "output_type": "stream",
          "name": "stdout",
          "text": [
            "Classifier: RandomForestClassifier()\n",
            "Accuracy: 0.7545570916538659\n",
            "Precision: 0.7483932030307403\n",
            "Recall: 0.9644518272425249\n",
            "F1: 0.8424371852919139\n",
            "\n",
            "Classifier: MultinomialNB()\n",
            "Accuracy: 0.6794674859190989\n",
            "Precision: 0.6794674859190989\n",
            "Recall: 1.0\n",
            "F1: 0.8091436865021772\n",
            "\n",
            "Classifier: SVC(class_weight='balanced', kernel='linear')\n",
            "Accuracy: 0.8137480798771122\n",
            "Precision: 0.851617596931421\n",
            "Recall: 0.879125138427464\n",
            "F1: 0.8641171832431903\n",
            "\n",
            "Classifier: DecisionTreeClassifier(class_weight='balanced', criterion='entropy',\n",
            "                       random_state=198273)\n",
            "Accuracy: 0.8941628264208908\n",
            "Precision: 0.934929886866926\n",
            "Recall: 0.9100775193798449\n",
            "F1: 0.9209683636732887\n",
            "\n"
          ]
        }
      ]
    },
    {
      "cell_type": "code",
      "source": [
        "# Scoring metrics we're interested in\n",
        "scoring = {'acc': 'accuracy',\n",
        "           'precision': 'precision',\n",
        "           'recall': 'recall',\n",
        "           'f1': 'f1'}\n",
        "\n",
        "# Want to initialize the random number generator with the same seed for repeatable experiments\n",
        "random_state = 198273\n",
        "\n",
        "preprocess_pipeline = Pipeline([\n",
        "    ('vect', CountVectorizer()),\n",
        "    ('tfidf', TfidfTransformer())\n",
        "])\n",
        "\n",
        "# Assuming 'text' is your input data and 'labels' are the corresponding labels\n",
        "features = preprocess_pipeline.fit_transform(text, labels)\n",
        "\n",
        "# Using RepeatedStratifiedKFold\n",
        "cv = RepeatedStratifiedKFold(n_splits=5, n_repeats=5, random_state=random_state)\n",
        "\n",
        "for clf in [\n",
        "        RandomForestClassifier(random_state=random_state),\n",
        "        MultinomialNB(),\n",
        "        SVC(kernel='linear', class_weight='balanced'),\n",
        "        DecisionTreeClassifier(criterion='entropy', class_weight='balanced', random_state=random_state)\n",
        "    ]:\n",
        "    scores = cross_validate(clf, features, labels, scoring=scoring,\n",
        "                         cv=cv, return_train_score=False)\n",
        "    print(\"Classifier:\", clf.__class__.__name__)\n",
        "    print(\"Accuracy:\", scores['test_acc'].mean())\n",
        "    print(\"Precision:\", scores['test_precision'].mean())\n",
        "    print(\"Recall:\", scores['test_recall'].mean())\n",
        "    print(\"F1:\", scores['test_f1'].mean())\n",
        "    print()\n"
      ],
      "metadata": {
        "colab": {
          "base_uri": "https://localhost:8080/",
          "height": 0
        },
        "id": "qWJBFmPav9Kx",
        "outputId": "34041a77-db0a-4070-a01f-d03f1e8af2c5"
      },
      "execution_count": 81,
      "outputs": [
        {
          "output_type": "stream",
          "name": "stdout",
          "text": [
            "Classifier: RandomForestClassifier\n",
            "Accuracy: 0.7747329032258067\n",
            "Precision: 0.7588542458548734\n",
            "Recall: 0.9825490196078432\n",
            "F1: 0.8560203261552278\n",
            "\n",
            "Classifier: MultinomialNB\n",
            "Accuracy: 0.679483870967742\n",
            "Precision: 0.679483870967742\n",
            "Recall: 1.0\n",
            "F1: 0.8091575091575092\n",
            "\n",
            "Classifier: SVC\n",
            "Accuracy: 0.7872077419354838\n",
            "Precision: 0.8431492202443956\n",
            "Recall: 0.8448403361344538\n",
            "F1: 0.8434494522140163\n",
            "\n",
            "Classifier: DecisionTreeClassifier\n",
            "Accuracy: 0.909313548387097\n",
            "Precision: 0.9333789250671947\n",
            "Recall: 0.9339719887955181\n",
            "F1: 0.9333760156080407\n",
            "\n"
          ]
        }
      ]
    },
    {
      "cell_type": "markdown",
      "metadata": {
        "id": "DXJ5i4XnJiSx"
      },
      "source": [
        "## Question 6: Evaluation:\n",
        "In 2 paragraphs, summarize your findings on what models, features, and CV strategies worked best. Discuss the tradeoffs between different approaches. Make a final recommendation on what you think is the optimal classifier and preprocessing pipeline for this task based on the empirical results and your domain expertise. Explain your reasoning."
      ]
    },
    {
      "cell_type": "markdown",
      "source": [
        "In our experimentation, we evaluated several classifiers, including RandomForestClassifier, MultinomialNB, SVC, and DecisionTreeClassifier. We also used different preprocessing pipelines and cross-validation strategies.\n",
        "\n",
        "The choice of classifier significantly impacted performance. In this case, decision tree has the best performance. Additionally, employing text preprocessing steps such as lowercasing, removing stopwords, and stemming improved classification results across models.\n",
        "\n",
        "For cross-validation strategies, utilizing RepeatedStratifiedKFold tend to yielded more stable and reliable performance estimates compared to standard KFold, reducing variance and providing narrower confidence intervals for the averaged scores.\n",
        "\n",
        "Considering the trade-offs, our recommendation for the optimal classifier and preprocessing pipeline would be decision tree with the text preprocessing pipeline consisting of lowercasing, removing stopwords, and stemming, followed by CountVectorizer and TfidfTransformer. This choice balances performance, computational efficiency, and robustness, making it suitable for many text classification tasks, including the one at hand."
      ],
      "metadata": {
        "id": "ODVkFtdHwyC4"
      }
    }
  ],
  "metadata": {
    "kernelspec": {
      "display_name": "Python 3",
      "language": "python",
      "name": "python3"
    },
    "language_info": {
      "codemirror_mode": {
        "name": "ipython",
        "version": 3
      },
      "file_extension": ".py",
      "mimetype": "text/x-python",
      "name": "python",
      "nbconvert_exporter": "python",
      "pygments_lexer": "ipython3",
      "version": "3.10.9"
    },
    "colab": {
      "provenance": [],
      "include_colab_link": true
    }
  },
  "nbformat": 4,
  "nbformat_minor": 0
}